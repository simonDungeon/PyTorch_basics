{
  "nbformat": 4,
  "nbformat_minor": 0,
  "metadata": {
    "colab": {
      "name": "PytorchIntro.ipynb",
      "provenance": [],
      "collapsed_sections": [],
      "include_colab_link": true
    },
    "kernelspec": {
      "name": "python3",
      "display_name": "Python 3"
    },
    "accelerator": "GPU"
  },
  "cells": [
    {
      "cell_type": "markdown",
      "metadata": {
        "id": "view-in-github",
        "colab_type": "text"
      },
      "source": [
        "<a href=\"https://colab.research.google.com/github/simonDungeon/PyTorch_basics/blob/master/Pytorch_basic.ipynb\" target=\"_parent\"><img src=\"https://colab.research.google.com/assets/colab-badge.svg\" alt=\"Open In Colab\"/></a>"
      ]
    },
    {
      "cell_type": "markdown",
      "metadata": {
        "id": "KPqFTlOiiiKv",
        "colab_type": "text"
      },
      "source": [
        "## Outline\n",
        "* PyTorch\n",
        "* What are tensors\n",
        "* Initialising, slicing, reshaping tensors\n",
        "* Numpy and PyTorch interfacing\n",
        "* GPU support for PyTorch + Enabling GPUs on Google Colab\n",
        "* Speed comparisons, Numpy -- PyTorch -- PyTorch on GPU\n",
        "* Autodiff concepts and application\n",
        "* Writing a basic learning loop using autograd\n",
        "* Exercises"
      ]
    },
    {
      "cell_type": "code",
      "metadata": {
        "id": "j4wIFDnRakTz",
        "colab_type": "code",
        "colab": {}
      },
      "source": [
        "import torch\n",
        "import numpy as np\n",
        "import matplotlib.pyplot as plt"
      ],
      "execution_count": 0,
      "outputs": []
    },
    {
      "cell_type": "markdown",
      "metadata": {
        "id": "WJyLCI8PcPZq",
        "colab_type": "text"
      },
      "source": [
        "## Initialise tensors"
      ]
    },
    {
      "cell_type": "code",
      "metadata": {
        "id": "NV2jveDIayX-",
        "colab_type": "code",
        "outputId": "4cb7e6be-1803-4bcc-fbf1-d3b4311875c6",
        "colab": {
          "base_uri": "https://localhost:8080/",
          "height": 167
        }
      },
      "source": [
        "x = torch.ones(3, 2)\n",
        "print(x)\n",
        "x = torch.zeros(3, 2)\n",
        "print(x)\n",
        "x = torch.rand(3, 2)\n",
        "print(x)"
      ],
      "execution_count": 0,
      "outputs": [
        {
          "output_type": "stream",
          "text": [
            "tensor([[1., 1.],\n",
            "        [1., 1.],\n",
            "        [1., 1.]])\n",
            "tensor([[0., 0.],\n",
            "        [0., 0.],\n",
            "        [0., 0.]])\n",
            "tensor([[0.6396, 0.4718],\n",
            "        [0.7142, 0.0631],\n",
            "        [0.8785, 0.5781]])\n"
          ],
          "name": "stdout"
        }
      ]
    },
    {
      "cell_type": "code",
      "metadata": {
        "id": "BuAQVNaPFN1P",
        "colab_type": "code",
        "outputId": "c4fed8c0-6b14-4dfb-93ad-4c01654f385c",
        "colab": {
          "base_uri": "https://localhost:8080/",
          "height": 117
        }
      },
      "source": [
        "x = torch.empty(3, 2)\n",
        "print(x)\n",
        "y = torch.zeros_like(x)\n",
        "print(y)"
      ],
      "execution_count": 0,
      "outputs": [
        {
          "output_type": "stream",
          "text": [
            "tensor([[3.0028e-36, 0.0000e+00],\n",
            "        [3.3631e-44, 0.0000e+00],\n",
            "        [       nan, 0.0000e+00]])\n",
            "tensor([[0., 0.],\n",
            "        [0., 0.],\n",
            "        [0., 0.]])\n"
          ],
          "name": "stdout"
        }
      ]
    },
    {
      "cell_type": "code",
      "metadata": {
        "id": "bWrOMr-hFbwo",
        "colab_type": "code",
        "outputId": "46fbf4f9-4311-477d-8d8e-e31b2c620b6b",
        "colab": {
          "base_uri": "https://localhost:8080/",
          "height": 33
        }
      },
      "source": [
        "x = torch.linspace(0, 1, steps=5)\n",
        "print(x)"
      ],
      "execution_count": 0,
      "outputs": [
        {
          "output_type": "stream",
          "text": [
            "tensor([0.0000, 0.2500, 0.5000, 0.7500, 1.0000])\n"
          ],
          "name": "stdout"
        }
      ]
    },
    {
      "cell_type": "code",
      "metadata": {
        "id": "l_QspfvYEtuB",
        "colab_type": "code",
        "outputId": "31f9e488-8fe3-4911-cdf7-e5ad055d6284",
        "colab": {
          "base_uri": "https://localhost:8080/",
          "height": 67
        }
      },
      "source": [
        "x = torch.tensor([[1, 2], \n",
        "                 [3, 4], \n",
        "                 [5, 6]])\n",
        "print(x)"
      ],
      "execution_count": 0,
      "outputs": [
        {
          "output_type": "stream",
          "text": [
            "tensor([[1, 2],\n",
            "        [3, 4],\n",
            "        [5, 6]])\n"
          ],
          "name": "stdout"
        }
      ]
    },
    {
      "cell_type": "markdown",
      "metadata": {
        "id": "wKub-KJLcSDJ",
        "colab_type": "text"
      },
      "source": [
        "## Slicing tensors"
      ]
    },
    {
      "cell_type": "code",
      "metadata": {
        "id": "UxSlfSVrbH8h",
        "colab_type": "code",
        "outputId": "7acba9b9-dcf9-414b-be6e-1fdcb4035829",
        "colab": {
          "base_uri": "https://localhost:8080/",
          "height": 67
        }
      },
      "source": [
        "print(x.size())\n",
        "print(x[:, 1]) \n",
        "print(x[0, :]) "
      ],
      "execution_count": 0,
      "outputs": [
        {
          "output_type": "stream",
          "text": [
            "torch.Size([3, 2])\n",
            "tensor([2, 4, 6])\n",
            "tensor([1, 2])\n"
          ],
          "name": "stdout"
        }
      ]
    },
    {
      "cell_type": "code",
      "metadata": {
        "id": "AGWkj2utcrz9",
        "colab_type": "code",
        "outputId": "16613d27-d557-4a18-cb8c-f2cf996e601e",
        "colab": {
          "base_uri": "https://localhost:8080/",
          "height": 50
        }
      },
      "source": [
        "y = x[1, 1]\n",
        "print(y)\n",
        "print(y.item())"
      ],
      "execution_count": 0,
      "outputs": [
        {
          "output_type": "stream",
          "text": [
            "tensor(4)\n",
            "4\n"
          ],
          "name": "stdout"
        }
      ]
    },
    {
      "cell_type": "markdown",
      "metadata": {
        "id": "6YvWGrX0cUpf",
        "colab_type": "text"
      },
      "source": [
        "## Reshaping tensors"
      ]
    },
    {
      "cell_type": "code",
      "metadata": {
        "id": "mn1q-Hm7b6hP",
        "colab_type": "code",
        "outputId": "e442416d-55a8-4af7-83ff-0ad603cc4e11",
        "colab": {
          "base_uri": "https://localhost:8080/",
          "height": 100
        }
      },
      "source": [
        "print(x)\n",
        "y = x.view(2, 3)\n",
        "print(y)"
      ],
      "execution_count": 0,
      "outputs": [
        {
          "output_type": "stream",
          "text": [
            "tensor([[1, 2],\n",
            "        [3, 4],\n",
            "        [5, 6]])\n",
            "tensor([[1, 2, 3],\n",
            "        [4, 5, 6]])\n"
          ],
          "name": "stdout"
        }
      ]
    },
    {
      "cell_type": "code",
      "metadata": {
        "id": "1EbIwPvBF4Lg",
        "colab_type": "code",
        "outputId": "f67edb3c-afc3-4105-a021-42914d2ecd55",
        "colab": {
          "base_uri": "https://localhost:8080/",
          "height": 117
        }
      },
      "source": [
        "y = x.view(6,-1) \n",
        "print(y)"
      ],
      "execution_count": 0,
      "outputs": [
        {
          "output_type": "stream",
          "text": [
            "tensor([[1],\n",
            "        [2],\n",
            "        [3],\n",
            "        [4],\n",
            "        [5],\n",
            "        [6]])\n"
          ],
          "name": "stdout"
        }
      ]
    },
    {
      "cell_type": "markdown",
      "metadata": {
        "id": "2XxOq0ObdXEC",
        "colab_type": "text"
      },
      "source": [
        "## Simple Tensor Operations"
      ]
    },
    {
      "cell_type": "code",
      "metadata": {
        "id": "Rv4jjqBVdIB2",
        "colab_type": "code",
        "outputId": "64d05c78-e37c-427a-c94a-974ad12a3bc6",
        "colab": {
          "base_uri": "https://localhost:8080/",
          "height": 167
        }
      },
      "source": [
        "x = torch.ones([3, 2])\n",
        "y = torch.ones([3, 2])\n",
        "z = x + y\n",
        "print(z)\n",
        "z = x - y\n",
        "print(z)\n",
        "z = x * y\n",
        "print(z)"
      ],
      "execution_count": 0,
      "outputs": [
        {
          "output_type": "stream",
          "text": [
            "tensor([[2., 2.],\n",
            "        [2., 2.],\n",
            "        [2., 2.]])\n",
            "tensor([[0., 0.],\n",
            "        [0., 0.],\n",
            "        [0., 0.]])\n",
            "tensor([[1., 1.],\n",
            "        [1., 1.],\n",
            "        [1., 1.]])\n"
          ],
          "name": "stdout"
        }
      ]
    },
    {
      "cell_type": "code",
      "metadata": {
        "id": "dVHnXB78dl8s",
        "colab_type": "code",
        "outputId": "1babe3e3-3aab-40a5-87a9-cd52294d71cc",
        "colab": {
          "base_uri": "https://localhost:8080/",
          "height": 117
        }
      },
      "source": [
        "#modify y temporarily\n",
        "z = y.add(x)\n",
        "print(z)\n",
        "print(y)"
      ],
      "execution_count": 0,
      "outputs": [
        {
          "output_type": "stream",
          "text": [
            "tensor([[2., 2.],\n",
            "        [2., 2.],\n",
            "        [2., 2.]])\n",
            "tensor([[1., 1.],\n",
            "        [1., 1.],\n",
            "        [1., 1.]])\n"
          ],
          "name": "stdout"
        }
      ]
    },
    {
      "cell_type": "code",
      "metadata": {
        "id": "LewBBuz_eL1m",
        "colab_type": "code",
        "outputId": "b734b174-7dfc-4808-ee4f-cc278ec42646",
        "colab": {
          "base_uri": "https://localhost:8080/",
          "height": 117
        }
      },
      "source": [
        "#modify y permanently\n",
        "z = y.add_(x)\n",
        "print(z)\n",
        "print(y)"
      ],
      "execution_count": 0,
      "outputs": [
        {
          "output_type": "stream",
          "text": [
            "tensor([[2., 2.],\n",
            "        [2., 2.],\n",
            "        [2., 2.]])\n",
            "tensor([[2., 2.],\n",
            "        [2., 2.],\n",
            "        [2., 2.]])\n"
          ],
          "name": "stdout"
        }
      ]
    },
    {
      "cell_type": "markdown",
      "metadata": {
        "id": "PDuBSdzTc2Bq",
        "colab_type": "text"
      },
      "source": [
        "## Numpy <> PyTorch"
      ]
    },
    {
      "cell_type": "code",
      "metadata": {
        "id": "NlvqO8_1ccML",
        "colab_type": "code",
        "outputId": "ea797804-7ecd-4c3d-b29c-48eaf1d74fa9",
        "colab": {
          "base_uri": "https://localhost:8080/",
          "height": 84
        }
      },
      "source": [
        "x_np = x.numpy()\n",
        "print(type(x), type(x_np))\n",
        "print(x_np)"
      ],
      "execution_count": 0,
      "outputs": [
        {
          "output_type": "stream",
          "text": [
            "<class 'torch.Tensor'> <class 'numpy.ndarray'>\n",
            "[[1. 1.]\n",
            " [1. 1.]\n",
            " [1. 1.]]\n"
          ],
          "name": "stdout"
        }
      ]
    },
    {
      "cell_type": "code",
      "metadata": {
        "id": "tLhS3Hrmc-M2",
        "colab_type": "code",
        "outputId": "e4efe529-9d5e-4e0f-deeb-a8928dca0ead",
        "colab": {
          "base_uri": "https://localhost:8080/",
          "height": 67
        }
      },
      "source": [
        "a = np.random.randn(5)\n",
        "print(a)\n",
        "#convertion from numpy to tensor\n",
        "a_pt = torch.from_numpy(a)\n",
        "print(type(a), type(a_pt))\n",
        "print(a_pt)"
      ],
      "execution_count": 0,
      "outputs": [
        {
          "output_type": "stream",
          "text": [
            "[ 0.79367155  0.90716844  0.45434408 -1.85352098  1.03665278]\n",
            "<class 'numpy.ndarray'> <class 'torch.Tensor'>\n",
            "tensor([ 0.7937,  0.9072,  0.4543, -1.8535,  1.0367], dtype=torch.float64)\n"
          ],
          "name": "stdout"
        }
      ]
    },
    {
      "cell_type": "code",
      "metadata": {
        "id": "kwZhRYVtdp-X",
        "colab_type": "code",
        "outputId": "bd9fe8ff-0641-42f8-bfd9-084dd7612a97",
        "colab": {
          "base_uri": "https://localhost:8080/",
          "height": 50
        }
      },
      "source": [
        "#both a and a_pt are changed simultaneously \n",
        "np.add(a, 1, out=a)\n",
        "print(a)\n",
        "print(a_pt) "
      ],
      "execution_count": 0,
      "outputs": [
        {
          "output_type": "stream",
          "text": [
            "[ 1.79367155  1.90716844  1.45434408 -0.85352098  2.03665278]\n",
            "tensor([ 1.7937,  1.9072,  1.4543, -0.8535,  2.0367], dtype=torch.float64)\n"
          ],
          "name": "stdout"
        }
      ]
    },
    {
      "cell_type": "code",
      "metadata": {
        "id": "6z-Mhf2hewcU",
        "colab_type": "code",
        "outputId": "adb38b3a-be42-4b7d-917f-58205dd7353c",
        "colab": {
          "base_uri": "https://localhost:8080/",
          "height": 50
        }
      },
      "source": [
        "%%time\n",
        "for i in range(100):\n",
        "  a = np.random.randn(100,100)\n",
        "  b = np.random.randn(100,100)\n",
        "  c = np.matmul(a, b)"
      ],
      "execution_count": 0,
      "outputs": [
        {
          "output_type": "stream",
          "text": [
            "CPU times: user 149 ms, sys: 118 ms, total: 268 ms\n",
            "Wall time: 150 ms\n"
          ],
          "name": "stdout"
        }
      ]
    },
    {
      "cell_type": "code",
      "metadata": {
        "id": "aFzIX2qge3x9",
        "colab_type": "code",
        "outputId": "a42b4b6c-c015-4ff8-a11f-f67e6d21ec98",
        "colab": {
          "base_uri": "https://localhost:8080/",
          "height": 50
        }
      },
      "source": [
        "%%time\n",
        "for i in range(100):\n",
        "  a = torch.randn([100, 100])\n",
        "  b = torch.randn([100, 100])\n",
        "  c = torch.matmul(a, b)"
      ],
      "execution_count": 0,
      "outputs": [
        {
          "output_type": "stream",
          "text": [
            "CPU times: user 28.1 ms, sys: 2.09 ms, total: 30.2 ms\n",
            "Wall time: 70.2 ms\n"
          ],
          "name": "stdout"
        }
      ]
    },
    {
      "cell_type": "code",
      "metadata": {
        "id": "Pdat0Hnm6hGA",
        "colab_type": "code",
        "outputId": "883350fb-11ec-434e-af90-cb3884aa5dc7",
        "colab": {
          "base_uri": "https://localhost:8080/",
          "height": 50
        }
      },
      "source": [
        "%%time\n",
        "for i in range(10):\n",
        "  a = np.random.randn(10000,10000)\n",
        "  b = np.random.randn(10000,10000)\n",
        "  c = a + b"
      ],
      "execution_count": 0,
      "outputs": [
        {
          "output_type": "stream",
          "text": [
            "CPU times: user 1min 28s, sys: 608 ms, total: 1min 28s\n",
            "Wall time: 1min 28s\n"
          ],
          "name": "stdout"
        }
      ]
    },
    {
      "cell_type": "code",
      "metadata": {
        "id": "XlRx5OKl6kEq",
        "colab_type": "code",
        "outputId": "dc4165a2-53b7-417d-da41-3089d662b381",
        "colab": {
          "base_uri": "https://localhost:8080/",
          "height": 50
        }
      },
      "source": [
        "%%time\n",
        "for i in range(10):\n",
        "  a = torch.randn([10000, 10000])\n",
        "  b = torch.randn([10000, 10000])\n",
        "  c = a + b"
      ],
      "execution_count": 0,
      "outputs": [
        {
          "output_type": "stream",
          "text": [
            "CPU times: user 19.8 s, sys: 4.01 ms, total: 19.8 s\n",
            "Wall time: 19.8 s\n"
          ],
          "name": "stdout"
        }
      ]
    },
    {
      "cell_type": "markdown",
      "metadata": {
        "id": "de5YwtfUgMWO",
        "colab_type": "text"
      },
      "source": [
        "## CUDA support"
      ]
    },
    {
      "cell_type": "code",
      "metadata": {
        "id": "-nI4nYcWgY1B",
        "colab_type": "code",
        "outputId": "50a297a1-7e33-44e5-981d-23c643746620",
        "colab": {
          "base_uri": "https://localhost:8080/",
          "height": 33
        }
      },
      "source": [
        "print(torch.cuda.device_count())"
      ],
      "execution_count": 0,
      "outputs": [
        {
          "output_type": "stream",
          "text": [
            "1\n"
          ],
          "name": "stdout"
        }
      ]
    },
    {
      "cell_type": "code",
      "metadata": {
        "id": "_3E-PMC1gfKU",
        "colab_type": "code",
        "outputId": "aa5c957d-5fec-4e14-b543-af9ae4526301",
        "colab": {
          "base_uri": "https://localhost:8080/",
          "height": 50
        }
      },
      "source": [
        "print(torch.cuda.device(0))\n",
        "print(torch.cuda.get_device_name(0))"
      ],
      "execution_count": 0,
      "outputs": [
        {
          "output_type": "stream",
          "text": [
            "<torch.cuda.device object at 0x7fc8534a59e8>\n",
            "Tesla P4\n"
          ],
          "name": "stdout"
        }
      ]
    },
    {
      "cell_type": "code",
      "metadata": {
        "id": "_eZYxVpMgor4",
        "colab_type": "code",
        "colab": {}
      },
      "source": [
        "cuda0 = torch.device('cuda:0')"
      ],
      "execution_count": 0,
      "outputs": []
    },
    {
      "cell_type": "code",
      "metadata": {
        "id": "j1r7y57x9JZU",
        "colab_type": "code",
        "outputId": "edc894fa-76f2-4c9f-9e53-00e902883b25",
        "colab": {
          "base_uri": "https://localhost:8080/",
          "height": 67
        }
      },
      "source": [
        "a = torch.ones(3, 2, device=cuda0)\n",
        "b = torch.ones(3, 2, device=cuda0)\n",
        "c = a + b\n",
        "print(c)"
      ],
      "execution_count": 0,
      "outputs": [
        {
          "output_type": "stream",
          "text": [
            "tensor([[2., 2.],\n",
            "        [2., 2.],\n",
            "        [2., 2.]], device='cuda:0')\n"
          ],
          "name": "stdout"
        }
      ]
    },
    {
      "cell_type": "code",
      "metadata": {
        "id": "wSt3W1s-_Gc3",
        "colab_type": "code",
        "outputId": "b2fc30d0-7bd0-4978-9a6d-1301ab29a0c7",
        "colab": {
          "base_uri": "https://localhost:8080/",
          "height": 67
        }
      },
      "source": [
        "print(a)"
      ],
      "execution_count": 0,
      "outputs": [
        {
          "output_type": "stream",
          "text": [
            "tensor([[1., 1.],\n",
            "        [1., 1.],\n",
            "        [1., 1.]], device='cuda:0')\n"
          ],
          "name": "stdout"
        }
      ]
    },
    {
      "cell_type": "code",
      "metadata": {
        "id": "sVfOAU2EfTXB",
        "colab_type": "code",
        "colab": {}
      },
      "source": [
        "%%time\n",
        "for i in range(10):\n",
        "  a = np.random.randn(10000,10000)\n",
        "  b = np.random.randn(10000,10000)\n",
        "  np.add(b, a)"
      ],
      "execution_count": 0,
      "outputs": []
    },
    {
      "cell_type": "code",
      "metadata": {
        "id": "G9GLUek5hCfn",
        "colab_type": "code",
        "colab": {}
      },
      "source": [
        "%%time\n",
        "for i in range(10):\n",
        "  a_cpu = torch.randn([10000, 10000])\n",
        "  b_cpu = torch.randn([10000, 10000])\n",
        "  b_cpu.add_(a_cpu)"
      ],
      "execution_count": 0,
      "outputs": []
    },
    {
      "cell_type": "code",
      "metadata": {
        "id": "FqSYioGrgyMI",
        "colab_type": "code",
        "outputId": "27e083ef-327d-4ddf-9352-4e01447ad32c",
        "colab": {
          "base_uri": "https://localhost:8080/",
          "height": 50
        }
      },
      "source": [
        "%%time\n",
        "for i in range(10):\n",
        "  a = torch.randn([10000, 10000], device=cuda0)\n",
        "  b = torch.randn([10000, 10000], device=cuda0)\n",
        "  b.add_(a)"
      ],
      "execution_count": 0,
      "outputs": [
        {
          "output_type": "stream",
          "text": [
            "CPU times: user 1.76 ms, sys: 1.97 ms, total: 3.73 ms\n",
            "Wall time: 8.09 ms\n"
          ],
          "name": "stdout"
        }
      ]
    },
    {
      "cell_type": "code",
      "metadata": {
        "id": "Kjsl8xRFjPtT",
        "colab_type": "code",
        "colab": {}
      },
      "source": [
        "%%time\n",
        "for i in range(10):\n",
        "  a = np.random.randn(10000,10000)\n",
        "  b = np.random.randn(10000,10000)\n",
        "  np.matmul(b, a)"
      ],
      "execution_count": 0,
      "outputs": []
    },
    {
      "cell_type": "code",
      "metadata": {
        "id": "hFfMhN2gjlZJ",
        "colab_type": "code",
        "colab": {}
      },
      "source": [
        "%%time\n",
        "for i in range(10):\n",
        "  a = torch.randn([10000, 10000], device=cuda0)\n",
        "  b = torch.randn([10000, 10000], device=cuda0)\n",
        "  torch.matmul(a, b)"
      ],
      "execution_count": 0,
      "outputs": []
    },
    {
      "cell_type": "markdown",
      "metadata": {
        "id": "P_6TU64Gi7jv",
        "colab_type": "text"
      },
      "source": [
        "## Autodiff"
      ]
    },
    {
      "cell_type": "code",
      "metadata": {
        "id": "PjySsLMThEX7",
        "colab_type": "code",
        "outputId": "df7e35b6-ecf2-4f59-e943-834f00d4ab83",
        "colab": {
          "base_uri": "https://localhost:8080/",
          "height": 67
        }
      },
      "source": [
        "x = torch.ones([3, 2], requires_grad=True)\n",
        "print(x)"
      ],
      "execution_count": 0,
      "outputs": [
        {
          "output_type": "stream",
          "text": [
            "tensor([[1., 1.],\n",
            "        [1., 1.],\n",
            "        [1., 1.]], requires_grad=True)\n"
          ],
          "name": "stdout"
        }
      ]
    },
    {
      "cell_type": "code",
      "metadata": {
        "id": "neb3oFWBjAtJ",
        "colab_type": "code",
        "outputId": "71aa85ee-bb3d-46aa-ec6a-9cbf23c37644",
        "colab": {
          "base_uri": "https://localhost:8080/",
          "height": 67
        }
      },
      "source": [
        "y = x + 5\n",
        "print(y)"
      ],
      "execution_count": 0,
      "outputs": [
        {
          "output_type": "stream",
          "text": [
            "tensor([[6., 6.],\n",
            "        [6., 6.],\n",
            "        [6., 6.]], grad_fn=<AddBackward0>)\n"
          ],
          "name": "stdout"
        }
      ]
    },
    {
      "cell_type": "code",
      "metadata": {
        "id": "5M0pnstAjLa-",
        "colab_type": "code",
        "outputId": "2f42a2bc-e8ab-4439-a2ef-449eb7f87e94",
        "colab": {
          "base_uri": "https://localhost:8080/",
          "height": 67
        }
      },
      "source": [
        "z = y*y + 1\n",
        "print(z)"
      ],
      "execution_count": 0,
      "outputs": [
        {
          "output_type": "stream",
          "text": [
            "tensor([[37., 37.],\n",
            "        [37., 37.],\n",
            "        [37., 37.]], grad_fn=<AddBackward0>)\n"
          ],
          "name": "stdout"
        }
      ]
    },
    {
      "cell_type": "code",
      "metadata": {
        "id": "wHHDSmiUkMOw",
        "colab_type": "code",
        "outputId": "cd9d8f33-cb0c-4f10-8b96-fe6702cb923e",
        "colab": {
          "base_uri": "https://localhost:8080/",
          "height": 33
        }
      },
      "source": [
        "t = torch.sum(z)\n",
        "print(t)"
      ],
      "execution_count": 0,
      "outputs": [
        {
          "output_type": "stream",
          "text": [
            "tensor(222., grad_fn=<SumBackward0>)\n"
          ],
          "name": "stdout"
        }
      ]
    },
    {
      "cell_type": "code",
      "metadata": {
        "id": "AXj896azkM_S",
        "colab_type": "code",
        "colab": {}
      },
      "source": [
        "t.backward()"
      ],
      "execution_count": 0,
      "outputs": []
    },
    {
      "cell_type": "code",
      "metadata": {
        "id": "wSYAcNN1lAWS",
        "colab_type": "code",
        "outputId": "8e6e4ce9-ccb1-4afd-fec7-854818a68255",
        "colab": {
          "base_uri": "https://localhost:8080/",
          "height": 67
        }
      },
      "source": [
        "print(x.grad)"
      ],
      "execution_count": 0,
      "outputs": [
        {
          "output_type": "stream",
          "text": [
            "tensor([[12., 12.],\n",
            "        [12., 12.],\n",
            "        [12., 12.]])\n"
          ],
          "name": "stdout"
        }
      ]
    },
    {
      "cell_type": "markdown",
      "metadata": {
        "id": "6nrD44oJiEIY",
        "colab_type": "text"
      },
      "source": [
        "$t = \\sum_i z_i, z_i = y_i^2 + 1, y_i = x_i + 5$\n",
        "\n",
        "$\\frac{\\partial t}{\\partial x_i} = \\frac{\\partial z_i}{\\partial x_i} = \\frac{\\partial z_i}{\\partial y_i} \\frac{\\partial y_i}{\\partial x_i} = 2y_i \\times 1$\n",
        "\n",
        "\n",
        "At x = 1, y = 6, $\\frac{\\partial t}{\\partial x_i} = 12$"
      ]
    },
    {
      "cell_type": "code",
      "metadata": {
        "id": "ZFCWPPAP6ipv",
        "colab_type": "code",
        "outputId": "c36f654d-002d-469e-d21a-f21f6f472b66",
        "colab": {
          "base_uri": "https://localhost:8080/",
          "height": 117
        }
      },
      "source": [
        "x = torch.ones([3, 2], requires_grad=True)\n",
        "y = x + 5\n",
        "r = 1/(1 + torch.exp(-y))\n",
        "print(r)\n",
        "s = torch.sum(r)\n",
        "s.backward()\n",
        "print(x.grad)"
      ],
      "execution_count": 0,
      "outputs": [
        {
          "output_type": "stream",
          "text": [
            "tensor([[0.9975, 0.9975],\n",
            "        [0.9975, 0.9975],\n",
            "        [0.9975, 0.9975]], grad_fn=<MulBackward0>)\n",
            "tensor([[0.0025, 0.0025],\n",
            "        [0.0025, 0.0025],\n",
            "        [0.0025, 0.0025]])\n"
          ],
          "name": "stdout"
        }
      ]
    },
    {
      "cell_type": "code",
      "metadata": {
        "id": "Ts1wsONqlE5h",
        "colab_type": "code",
        "outputId": "f0de8125-ee45-49e8-dd9c-ff5bdde68ce2",
        "colab": {
          "base_uri": "https://localhost:8080/",
          "height": 67
        }
      },
      "source": [
        "x = torch.ones([3, 2], requires_grad=True)\n",
        "y = x + 5\n",
        "r = 1/(1 + torch.exp(-y))\n",
        "a = torch.ones([3, 2])\n",
        "r.backward(a)\n",
        "print(x.grad)"
      ],
      "execution_count": 0,
      "outputs": [
        {
          "output_type": "stream",
          "text": [
            "tensor([[0.0025, 0.0025],\n",
            "        [0.0025, 0.0025],\n",
            "        [0.0025, 0.0025]])\n"
          ],
          "name": "stdout"
        }
      ]
    },
    {
      "cell_type": "markdown",
      "metadata": {
        "id": "56AqY5hY77dx",
        "colab_type": "text"
      },
      "source": [
        "$\\frac{\\partial{s}}{\\partial{x}} = \\frac{\\partial{s}}{\\partial{r}} \\cdot \\frac{\\partial{r}}{\\partial{x}}$\n",
        "\n",
        "For the above code $a$ represents $\\frac{\\partial{s}}{\\partial{r}}$ and then $x.grad$ gives directly $\\frac{\\partial{s}}{\\partial{x}}$\n",
        "\n"
      ]
    },
    {
      "cell_type": "markdown",
      "metadata": {
        "id": "AKhxwdYUpUfj",
        "colab_type": "text"
      },
      "source": [
        "## Autodiff example that looks like what we have been doing"
      ]
    },
    {
      "cell_type": "code",
      "metadata": {
        "id": "THNkQLR6mmpO",
        "colab_type": "code",
        "colab": {}
      },
      "source": [
        "#ground truth\n",
        "x = torch.randn([20, 1], requires_grad=True)\n",
        "y = 3*x - 2"
      ],
      "execution_count": 0,
      "outputs": []
    },
    {
      "cell_type": "code",
      "metadata": {
        "id": "-t4_8qgdnjDk",
        "colab_type": "code",
        "colab": {}
      },
      "source": [
        "#forward pass \n",
        "w = torch.tensor([1.], requires_grad=True)\n",
        "b = torch.tensor([1.], requires_grad=True)\n",
        "\n",
        "y_hat = w*x + b\n",
        "\n",
        "loss = torch.sum((y_hat - y)**2)"
      ],
      "execution_count": 0,
      "outputs": []
    },
    {
      "cell_type": "code",
      "metadata": {
        "id": "Gvpc37u-o6ob",
        "colab_type": "code",
        "outputId": "e5a8d966-6688-4f5e-9d61-2e50fecf0549",
        "colab": {
          "base_uri": "https://localhost:8080/",
          "height": 33
        }
      },
      "source": [
        "print(loss)"
      ],
      "execution_count": 0,
      "outputs": [
        {
          "output_type": "stream",
          "text": [
            "tensor(335.2999, grad_fn=<SumBackward0>)\n"
          ],
          "name": "stdout"
        }
      ]
    },
    {
      "cell_type": "code",
      "metadata": {
        "id": "-tnKq6DXo-RB",
        "colab_type": "code",
        "colab": {}
      },
      "source": [
        "loss.backward()"
      ],
      "execution_count": 0,
      "outputs": []
    },
    {
      "cell_type": "code",
      "metadata": {
        "id": "I38qmZLhpM2F",
        "colab_type": "code",
        "outputId": "cbbc621a-88af-4229-bcb7-cb144068dc25",
        "colab": {
          "base_uri": "https://localhost:8080/",
          "height": 33
        }
      },
      "source": [
        "print(w.grad, b.grad)"
      ],
      "execution_count": 0,
      "outputs": [
        {
          "output_type": "stream",
          "text": [
            "tensor([-161.2809]) tensor([116.0126])\n"
          ],
          "name": "stdout"
        }
      ]
    },
    {
      "cell_type": "markdown",
      "metadata": {
        "id": "WfDV6saTq8XA",
        "colab_type": "text"
      },
      "source": [
        "## Do it in a loop"
      ]
    },
    {
      "cell_type": "code",
      "metadata": {
        "id": "ivmJgJQTpN79",
        "colab_type": "code",
        "outputId": "24868644-c8a3-43cd-84fd-dc241d9c43db",
        "colab": {
          "base_uri": "https://localhost:8080/",
          "height": 201
        }
      },
      "source": [
        "learning_rate = 0.01\n",
        "\n",
        "w = torch.tensor([1.], requires_grad=True)\n",
        "b = torch.tensor([1.], requires_grad=True)\n",
        "\n",
        "print(w.item(), b.item())\n",
        "\n",
        "for i in range(10):\n",
        "  \n",
        "  x = torch.randn([20, 1])\n",
        "  y = 3*x - 2\n",
        "  \n",
        "  y_hat = w*x + b\n",
        "  loss = torch.sum((y_hat - y)**2)\n",
        "  \n",
        "  loss.backward()\n",
        "  \n",
        "  with torch.no_grad():\n",
        "    w -= learning_rate * w.grad\n",
        "    b -= learning_rate * b.grad\n",
        "    \n",
        "    w.grad.zero_()\n",
        "    b.grad.zero_()\n",
        "\n",
        "  print(w.item(), b.item())\n",
        "  "
      ],
      "execution_count": 0,
      "outputs": [
        {
          "output_type": "stream",
          "text": [
            "1.0 1.0\n",
            "1.4773666858673096 0.12572544813156128\n",
            "2.1024065017700195 -0.851980447769165\n",
            "2.3533198833465576 -1.3275346755981445\n",
            "2.4460582733154297 -1.5592212677001953\n",
            "2.6981327533721924 -1.7804279327392578\n",
            "2.8138506412506104 -1.8645237684249878\n",
            "2.8993170261383057 -1.9100019931793213\n",
            "2.9551753997802734 -1.9494078159332275\n",
            "2.9747705459594727 -1.970151424407959\n",
            "2.986304759979248 -1.9848449230194092\n"
          ],
          "name": "stdout"
        }
      ]
    },
    {
      "cell_type": "markdown",
      "metadata": {
        "id": "vyOqrZZiuLkl",
        "colab_type": "text"
      },
      "source": [
        "## Do it for a large problem"
      ]
    },
    {
      "cell_type": "code",
      "metadata": {
        "id": "qq3Iykk1rMfh",
        "colab_type": "code",
        "outputId": "936d437e-f4c0-4c57-a607-941d42aadfea",
        "colab": {
          "base_uri": "https://localhost:8080/",
          "height": 1000
        }
      },
      "source": [
        "%%time\n",
        "learning_rate = 0.001\n",
        "N = 1000\n",
        "epochs = 200\n",
        "\n",
        "w = torch.rand([N], requires_grad=True)\n",
        "b = torch.ones([1], requires_grad=True)\n",
        "\n",
        "print(torch.mean(w).item(), b.item())\n",
        "\n",
        "for i in range(epochs):\n",
        "  \n",
        "  x = torch.randn([N])\n",
        "  y = torch.dot(3*torch.ones([N]), x) - 2\n",
        "  \n",
        "  y_hat = torch.dot(w, x) + b\n",
        "  loss = torch.sum((y_hat - y)**2)\n",
        "  \n",
        "  loss.backward()\n",
        "  \n",
        "  with torch.no_grad():\n",
        "    w -= learning_rate * w.grad\n",
        "    b -= learning_rate * b.grad\n",
        "    \n",
        "    w.grad.zero_()\n",
        "    b.grad.zero_()\n",
        "\n",
        "    print(torch.mean(w).item(), b.item())\n",
        "  "
      ],
      "execution_count": 0,
      "outputs": [
        {
          "output_type": "stream",
          "text": [
            "0.495449423789978 1.0\n",
            "0.49880707263946533 1.1184141635894775\n",
            "0.49947014451026917 1.071664571762085\n",
            "0.5000467300415039 1.012283205986023\n",
            "0.5006168484687805 1.0623650550842285\n",
            "0.5217556953430176 0.7440581321716309\n",
            "0.5296509265899658 0.9500398635864258\n",
            "0.5330822467803955 0.8118174076080322\n",
            "0.5415011048316956 1.0186797380447388\n",
            "0.5445876121520996 1.1533465385437012\n",
            "0.5447946190834045 1.1189085245132446\n",
            "0.5455066561698914 1.0283029079437256\n",
            "0.5453014969825745 1.0652064085006714\n",
            "0.5472002625465393 1.1529769897460938\n",
            "0.5478547811508179 1.2161608934402466\n",
            "0.5570859909057617 1.4442501068115234\n",
            "0.5613457560539246 1.5727957487106323\n",
            "0.5691766142845154 1.7658902406692505\n",
            "0.569701075553894 1.845360279083252\n",
            "0.5708538889884949 1.940571904182434\n",
            "0.5725096464157104 2.030754327774048\n",
            "0.5724472999572754 2.000833034515381\n",
            "0.5724524855613708 2.0004220008850098\n",
            "0.573415219783783 2.0514118671417236\n",
            "0.5756838321685791 1.9114331007003784\n",
            "0.5794253349304199 1.7845617532730103\n",
            "0.5795798897743225 1.81845223903656\n",
            "0.6063084602355957 1.4421908855438232\n",
            "0.6153505444526672 1.2030104398727417\n",
            "0.6156112551689148 1.1899539232254028\n",
            "0.6163833737373352 1.1263158321380615\n",
            "0.6161004304885864 1.1627790927886963\n",
            "0.6160445213317871 1.1570125818252563\n",
            "0.6161214113235474 1.1618459224700928\n",
            "0.6163774728775024 1.1885408163070679\n",
            "0.6246448755264282 1.0389539003372192\n",
            "0.6246452927589417 1.011764645576477\n",
            "0.6304305195808411 0.8642832040786743\n",
            "0.6458648443222046 0.6177442073822021\n",
            "0.6483470797538757 0.4533390700817108\n",
            "0.6481784582138062 0.4623793363571167\n",
            "0.648281991481781 0.48433101177215576\n",
            "0.6484742164611816 0.4006573557853699\n",
            "0.6488294005393982 0.5148341655731201\n",
            "0.6512194275856018 0.4459412693977356\n",
            "0.6511642336845398 0.4576895833015442\n",
            "0.651193380355835 0.463980495929718\n",
            "0.6523868441581726 0.38626033067703247\n",
            "0.6553218364715576 0.2498570680618286\n",
            "0.6556442975997925 0.17387375235557556\n",
            "0.6566354036331177 0.28009647130966187\n",
            "0.6679543852806091 0.0779215544462204\n",
            "0.6680302619934082 0.0728118047118187\n",
            "0.6703029870986938 -0.019044190645217896\n",
            "0.6710922718048096 0.09303838014602661\n",
            "0.6708537936210632 0.0512104295194149\n",
            "0.6773769855499268 0.2629539668560028\n",
            "0.6805188059806824 0.355764240026474\n",
            "0.6805582642555237 0.34787747263908386\n",
            "0.6911521553993225 0.09896750748157501\n",
            "0.6912245750427246 0.15415892004966736\n",
            "0.6915687322616577 0.2676750421524048\n",
            "0.6932902336120605 0.1537914276123047\n",
            "0.70539391040802 -0.11045372486114502\n",
            "0.707377016544342 -0.1981067657470703\n",
            "0.7148146629333496 -0.36102670431137085\n",
            "0.7167980670928955 -0.475571870803833\n",
            "0.7199829816818237 -0.3724409341812134\n",
            "0.7209933400154114 -0.33921533823013306\n",
            "0.7221172451972961 -0.25947535037994385\n",
            "0.7255772352218628 -0.39366960525512695\n",
            "0.731170654296875 -0.5999159812927246\n",
            "0.7312575578689575 -0.6414689421653748\n",
            "0.7311758399009705 -0.6533766388893127\n",
            "0.7340711355209351 -0.8194280862808228\n",
            "0.7581050992012024 -1.2355109453201294\n",
            "0.7583264708518982 -1.2851799726486206\n",
            "0.7596785426139832 -1.235590934753418\n",
            "0.7595784664154053 -1.2393087148666382\n",
            "0.7630355358123779 -1.3965764045715332\n",
            "0.7633200883865356 -1.4484752416610718\n",
            "0.7639627456665039 -1.4162912368774414\n",
            "0.7634991407394409 -1.4694623947143555\n",
            "0.7807907462120056 -1.756771445274353\n",
            "0.7883942127227783 -1.555264949798584\n",
            "0.7891373038291931 -1.6143606901168823\n",
            "0.7918620109558105 -1.4595611095428467\n",
            "0.7959650754928589 -1.3142032623291016\n",
            "0.7968432903289795 -1.2694836854934692\n",
            "0.8131733536720276 -1.5601704120635986\n",
            "0.8283025622367859 -1.8888174295425415\n",
            "0.8312981724739075 -2.007582664489746\n",
            "0.8309487700462341 -1.993960976600647\n",
            "0.8314141631126404 -1.9590481519699097\n",
            "0.8421188592910767 -2.1334571838378906\n",
            "0.8445165157318115 -2.208569288253784\n",
            "0.8486753106117249 -2.3698341846466064\n",
            "0.8486630916595459 -2.320189952850342\n",
            "0.8701038360595703 -1.907142162322998\n",
            "0.8697376251220703 -1.9445383548736572\n",
            "0.8845573663711548 -2.2439329624176025\n",
            "0.8881118893623352 -2.1034698486328125\n",
            "0.8879171013832092 -2.0719804763793945\n",
            "0.8908509612083435 -2.014063835144043\n",
            "0.8916731476783752 -2.0489542484283447\n",
            "0.896798849105835 -2.2094736099243164\n",
            "0.8976473212242126 -2.1201257705688477\n",
            "0.8999831080436707 -2.2368156909942627\n",
            "0.8999876379966736 -2.2374277114868164\n",
            "0.9035080671310425 -2.4542784690856934\n",
            "0.9179229140281677 -2.7034170627593994\n",
            "0.9172106981277466 -2.7611639499664307\n",
            "0.9169940948486328 -2.9185659885406494\n",
            "0.9175679683685303 -2.944833517074585\n",
            "0.9177077412605286 -2.9551825523376465\n",
            "0.9193793535232544 -2.898541212081909\n",
            "0.9218166470527649 -2.807628631591797\n",
            "0.9265950918197632 -2.970245838165283\n",
            "0.9295351505279541 -2.807326555252075\n",
            "0.9410929083824158 -3.0808403491973877\n",
            "0.9406440854072571 -2.8433690071105957\n",
            "0.9407423734664917 -2.8463733196258545\n",
            "0.9421058893203735 -2.8905534744262695\n",
            "0.9418245553970337 -2.864072561264038\n",
            "0.942421019077301 -2.8034534454345703\n",
            "0.9428353905677795 -2.7111897468566895\n",
            "0.9425537586212158 -2.684596061706543\n",
            "0.9423574805259705 -2.7141690254211426\n",
            "0.9459490776062012 -2.9414474964141846\n",
            "0.9455112814903259 -2.8532161712646484\n",
            "0.945949137210846 -2.8769097328186035\n",
            "0.9504863619804382 -2.9782962799072266\n",
            "0.9523937702178955 -3.0917229652404785\n",
            "0.9546850919723511 -3.1708178520202637\n",
            "0.9546835422515869 -3.212698459625244\n",
            "0.9535229206085205 -3.269726276397705\n",
            "0.9545693397521973 -3.341294765472412\n",
            "0.9571774005889893 -3.482973337173462\n",
            "0.9570953249931335 -3.487530469894409\n",
            "0.960090160369873 -3.677802324295044\n",
            "0.9608591198921204 -3.6007463932037354\n",
            "0.9919784665107727 -3.9944307804107666\n",
            "1.0019208192825317 -3.7627007961273193\n",
            "1.0066088438034058 -3.595977306365967\n",
            "1.0119566917419434 -3.4394712448120117\n",
            "1.0238370895385742 -3.790656566619873\n",
            "1.033233404159546 -3.5628936290740967\n",
            "1.0327595472335815 -3.6536824703216553\n",
            "1.0327117443084717 -3.6080434322357178\n",
            "1.0327162742614746 -3.609957218170166\n",
            "1.0356330871582031 -3.801055908203125\n",
            "1.0600601434707642 -4.138540744781494\n",
            "1.0627262592315674 -3.9583957195281982\n",
            "1.0635191202163696 -3.8092145919799805\n",
            "1.0701125860214233 -4.003747463226318\n",
            "1.06908118724823 -4.076822280883789\n",
            "1.0700726509094238 -3.949690818786621\n",
            "1.0764997005462646 -3.797168493270874\n",
            "1.0781177282333374 -3.970132827758789\n",
            "1.087174654006958 -4.21252965927124\n",
            "1.1068315505981445 -4.6750712394714355\n",
            "1.1072534322738647 -4.646400451660156\n",
            "1.1077156066894531 -4.604615688323975\n",
            "1.1130468845367432 -4.7759504318237305\n",
            "1.1135108470916748 -4.973693370819092\n",
            "1.1130496263504028 -4.8977885246276855\n",
            "1.1172332763671875 -4.798768520355225\n",
            "1.116430401802063 -4.707798957824707\n",
            "1.1208254098892212 -4.463089466094971\n",
            "1.1217139959335327 -4.51970100402832\n",
            "1.1239324808120728 -4.390124797821045\n",
            "1.1238458156585693 -4.491226673126221\n",
            "1.1261920928955078 -4.619713306427002\n",
            "1.1381386518478394 -4.3877973556518555\n",
            "1.137457251548767 -4.365301609039307\n",
            "1.1497595310211182 -4.068971633911133\n",
            "1.1585674285888672 -4.258326053619385\n",
            "1.1624717712402344 -4.347347259521484\n",
            "1.1641840934753418 -4.44038200378418\n",
            "1.1692488193511963 -4.578422546386719\n",
            "1.1687090396881104 -4.455310821533203\n",
            "1.1680608987808228 -4.5402092933654785\n",
            "1.1678544282913208 -4.476038455963135\n",
            "1.1619409322738647 -4.337158679962158\n",
            "1.1665927171707153 -4.152060031890869\n",
            "1.1842076778411865 -4.425668716430664\n",
            "1.195387601852417 -4.1568379402160645\n",
            "1.2009090185165405 -3.9494683742523193\n",
            "1.2068248987197876 -3.860429048538208\n",
            "1.2085522413253784 -3.9624197483062744\n",
            "1.2085562944412231 -3.9571709632873535\n",
            "1.215947151184082 -4.137692451477051\n",
            "1.2161329984664917 -3.955193281173706\n",
            "1.2205933332443237 -3.817598581314087\n",
            "1.226773738861084 -3.7198073863983154\n",
            "1.2255027294158936 -3.814253568649292\n",
            "1.231496810913086 -4.09542989730835\n",
            "1.2455097436904907 -4.423858165740967\n",
            "1.2435842752456665 -4.56046199798584\n",
            "1.2435758113861084 -4.560798168182373\n",
            "1.2443758249282837 -4.532977104187012\n",
            "CPU times: user 171 ms, sys: 31.4 ms, total: 202 ms\n",
            "Wall time: 172 ms\n"
          ],
          "name": "stdout"
        }
      ]
    },
    {
      "cell_type": "code",
      "metadata": {
        "id": "owaeEn4A01zF",
        "colab_type": "code",
        "outputId": "4789aa64-697e-4f6e-e3c1-21ca41d8f7de",
        "colab": {
          "base_uri": "https://localhost:8080/",
          "height": 50
        }
      },
      "source": [
        "%%time\n",
        "learning_rate = 0.001\n",
        "N = 1000\n",
        "epochs = 200\n",
        "\n",
        "w = torch.rand([N], requires_grad=True, device=cuda0)\n",
        "b = torch.ones([1], requires_grad=True, device=cuda0)\n",
        "\n",
        "# print(torch.mean(w).item(), b.item())\n",
        "\n",
        "for i in range(epochs):\n",
        "  \n",
        "  x = torch.randn([N], device=cuda0)\n",
        "  y = torch.dot(3*torch.ones([N], device=cuda0), x) - 2\n",
        "  \n",
        "  y_hat = torch.dot(w, x) + b\n",
        "  loss = torch.sum((y_hat - y)**2)\n",
        "  \n",
        "  loss.backward()\n",
        "  \n",
        "  with torch.no_grad():\n",
        "    w -= learning_rate * w.grad\n",
        "    b -= learning_rate * b.grad\n",
        "    \n",
        "    w.grad.zero_()\n",
        "    b.grad.zero_()\n",
        "\n",
        "  #print(torch.mean(w).item(), b.item())\n",
        "  "
      ],
      "execution_count": 0,
      "outputs": [
        {
          "output_type": "stream",
          "text": [
            "CPU times: user 114 ms, sys: 17.2 ms, total: 132 ms\n",
            "Wall time: 137 ms\n"
          ],
          "name": "stdout"
        }
      ]
    },
    {
      "cell_type": "code",
      "metadata": {
        "id": "4TmBA3VO9Jva",
        "colab_type": "code",
        "colab": {}
      },
      "source": [
        ""
      ],
      "execution_count": 0,
      "outputs": []
    }
  ]
}